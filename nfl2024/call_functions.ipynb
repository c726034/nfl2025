{
 "cells": [
  {
   "cell_type": "code",
   "execution_count": 1,
   "id": "b2254703-f542-40bf-bffb-442992597acc",
   "metadata": {},
   "outputs": [],
   "source": [
    "import sys\n",
    "\n",
    "from nflmod import get_scores\n",
    "from nflmod import get_picks\n",
    "from nflmod import get_lines\n",
    "\n",
    "# Reload the module (used to load live edits to nflmod functions)\n",
    "import importlib\n",
    "importlib.reload(sys.modules['nflmod'])\n",
    "from nflmod import get_scores\n",
    "from nflmod import get_picks\n",
    "from nflmod import get_lines"
   ]
  },
  {
   "cell_type": "code",
   "execution_count": null,
   "id": "2e99a480",
   "metadata": {},
   "outputs": [],
   "source": [
    "help(get_scores)\n",
    "get_scores()"
   ]
  },
  {
   "cell_type": "code",
   "execution_count": null,
   "id": "06a1c951",
   "metadata": {},
   "outputs": [],
   "source": [
    "help(get_lines)\n",
    "# get_lines('N','Y',\"austinalbino@gmail.com\")\n",
    "get_lines('N','N','',19)\n",
    "# get_lines('Y','Y')"
   ]
  },
  {
   "cell_type": "code",
   "execution_count": null,
   "id": "d4cbda06",
   "metadata": {},
   "outputs": [],
   "source": [
    "import datetime as dt\n",
    "week = int((dt.datetime.today() - dt.timedelta(2)).strftime('%U'))\n",
    "nfl_week = week - 34 if week > 34 else week + 18\n",
    "print(nfl_week)"
   ]
  },
  {
   "cell_type": "code",
   "execution_count": null,
   "id": "ef4aa59f",
   "metadata": {},
   "outputs": [],
   "source": [
    "help(get_picks)\n",
    "get_picks('S',18)"
   ]
  }
 ],
 "metadata": {
  "kernelspec": {
   "display_name": "base",
   "language": "python",
   "name": "python3"
  },
  "language_info": {
   "codemirror_mode": {
    "name": "ipython",
    "version": 3
   },
   "file_extension": ".py",
   "mimetype": "text/x-python",
   "name": "python",
   "nbconvert_exporter": "python",
   "pygments_lexer": "ipython3",
   "version": "3.10.13"
  }
 },
 "nbformat": 4,
 "nbformat_minor": 5
}
